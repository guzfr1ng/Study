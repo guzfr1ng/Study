{
 "cells": [
  {
   "cell_type": "markdown",
   "metadata": {},
   "source": [
    "# <h1><center>Workshop 5</center></h1>\n",
    "## Objectives"
   ]
  },
  {
   "cell_type": "markdown",
   "metadata": {},
   "source": [
    "- To learn the data preparation steps for generating a choropleth map\n",
    "- To learn and practice the join operations required for merging the two geospatial datasets\n",
    "- To extend the learning outcome of this session for solving the Task 1.1 of the assessment\n",
    "\n"
   ]
  },
  {
   "cell_type": "markdown",
   "metadata": {},
   "source": [
    "# Geospatial Mapping of Global CO2 emissions\n"
   ]
  },
  {
   "cell_type": "markdown",
   "metadata": {},
   "source": [
    "<div class=\"alert alert-block alert-info\">\n",
    "    \n",
    " <span style='font-family:Georgia'> This task requires you to use the dataset, World_CO2.csv. The dataset contains CO2 emission (in kt) corresponding to the various countries. Use GeoPandas, a Python based GIS tool to plot a choropleth map representing the world CO2 emissions for the year 2015. \n",
    "     \n",
    " <span style='font-family:Georgia'> The solution for this task should describe all the major steps taken for generating the choropleth map. All the functions, libraries and coding steps should be explained in a lucid manner. The major steps for generating the choropleth would typically involve, importing the datasets using appropriate Python libraries, geospatial operations, and plotting. The ipynb should be able to reproduce the choropleth maps without any error. \n",
    " \n",
    "</div>"
   ]
  },
  {
   "cell_type": "markdown",
   "metadata": {},
   "source": [
    "<div class=\"alert alert-block alert-info\">\n",
    "    \n",
    " <span style='font-family:Georgia'> HINT 1: To plot choropleth maps during the studio session, we used naturalearth_lowres data available with GeoPandas. The geometry column played key role in transforming the polygon geometry of each country into corresponding map. In the World_CO2.csv we do not have such geometry column. On the other hand, we do have a column for country code. Can you notice similar kind of country code in naturalearth_lowres data? If yes, then can you think of a join operation which could enable you to use the geometry column of naturalearth_lowres for generating the desired choropleth map (Global CO2 emissions)? \n",
    " \n",
    "</div>"
   ]
  },
  {
   "cell_type": "markdown",
   "metadata": {},
   "source": [
    "<div class=\"alert alert-block alert-info\">\n",
    "    \n",
    " <span style='font-family:Georgia'> HINT 2: You may need to perform some data cleaning as part of the data pre-processing. This could involve removing the countries for which no or minimal data are available. This could also involve taking care of any missing values.\n",
    "</div>"
   ]
  },
  {
   "cell_type": "code",
   "execution_count": null,
   "metadata": {},
   "outputs": [],
   "source": []
  },
  {
   "cell_type": "code",
   "execution_count": null,
   "metadata": {},
   "outputs": [],
   "source": []
  },
  {
   "cell_type": "markdown",
   "metadata": {},
   "source": [
    "<div class=\"alert alert-block alert-info\">\n",
    "    \n",
    " <span style='font-family:Georgia'> Upon completion of the above exercise, you should now be able to complete the Task 1.1 of the assignment. The data to be used in the assessment is also adopted from the same source, the World Bank. You can follow the similar types of steps for generating the chororpleths as required in the Task 1.1. Please note that you must attempt the assignment independently. The ideas discussed during this workhsop session can be used to find the solution to the Task 1.1 but you must describe the steps in your own words without indulging in any forms of Academic Unfair Practice.\n",
    "</div>"
   ]
  },
  {
   "cell_type": "markdown",
   "metadata": {},
   "source": [
    "# Workshop deliverable"
   ]
  },
  {
   "cell_type": "markdown",
   "metadata": {},
   "source": [
    "You are required to submit a copy of this solved Jupyter notebook through the Workshop 5 Submission Point on the Moodle. Please note that your submission should only contain the workshop task and you must NOT submit any actual task of the assessment at this stage."
   ]
  }
 ],
 "metadata": {
  "hide_input": false,
  "kernelspec": {
   "display_name": "Python 3",
   "language": "python",
   "name": "python3"
  },
  "language_info": {
   "codemirror_mode": {
    "name": "ipython",
    "version": 3
   },
   "file_extension": ".py",
   "mimetype": "text/x-python",
   "name": "python",
   "nbconvert_exporter": "python",
   "pygments_lexer": "ipython3",
   "version": "3.8.8"
  }
 },
 "nbformat": 4,
 "nbformat_minor": 4
}